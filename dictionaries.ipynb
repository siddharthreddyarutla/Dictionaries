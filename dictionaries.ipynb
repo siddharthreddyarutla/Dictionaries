{
  "nbformat": 4,
  "nbformat_minor": 0,
  "metadata": {
    "colab": {
      "name": "dictionaries.ipynb",
      "provenance": []
    },
    "kernelspec": {
      "name": "python3",
      "display_name": "Python 3"
    }
  },
  "cells": [
    {
      "cell_type": "markdown",
      "metadata": {
        "id": "gPrMeBGrhipN"
      },
      "source": [
        "#DICTIONARIES\n"
      ]
    },
    {
      "cell_type": "code",
      "metadata": {
        "id": "CYclVTE6huLR"
      },
      "source": [
        "alien = {'color': 'green', 'points': 5}"
      ],
      "execution_count": null,
      "outputs": []
    },
    {
      "cell_type": "code",
      "metadata": {
        "id": "FbO773kciAV4",
        "colab": {
          "base_uri": "https://localhost:8080/",
          "height": 35
        },
        "outputId": "080d91c9-8c0e-44de-c6df-abdc45d3be48"
      },
      "source": [
        "alien['color']"
      ],
      "execution_count": null,
      "outputs": [
        {
          "output_type": "execute_result",
          "data": {
            "application/vnd.google.colaboratory.intrinsic+json": {
              "type": "string"
            },
            "text/plain": [
              "'green'"
            ]
          },
          "metadata": {
            "tags": []
          },
          "execution_count": 3
        }
      ]
    },
    {
      "cell_type": "code",
      "metadata": {
        "id": "NjtBCA9qiL46",
        "colab": {
          "base_uri": "https://localhost:8080/",
          "height": 34
        },
        "outputId": "4203a3db-41e2-41fb-fb5f-f126a5ae9160"
      },
      "source": [
        "alien['points']"
      ],
      "execution_count": null,
      "outputs": [
        {
          "output_type": "execute_result",
          "data": {
            "text/plain": [
              "5"
            ]
          },
          "metadata": {
            "tags": []
          },
          "execution_count": 4
        }
      ]
    },
    {
      "cell_type": "code",
      "metadata": {
        "id": "ok7JmysBiQFE",
        "colab": {
          "base_uri": "https://localhost:8080/",
          "height": 50
        },
        "outputId": "c0a81ea6-64ea-4e21-e7c5-e0160f5de249"
      },
      "source": [
        "alien_color = alien_0.get('color')\n",
        "alien_points = alien_0.get('points', 0)\n",
        "print(alien_color)\n",
        "print(alien_points)"
      ],
      "execution_count": null,
      "outputs": [
        {
          "output_type": "stream",
          "text": [
            "green\n",
            "5\n"
          ],
          "name": "stdout"
        }
      ]
    },
    {
      "cell_type": "code",
      "metadata": {
        "id": "iLJS3IygiXxA",
        "colab": {
          "base_uri": "https://localhost:8080/",
          "height": 50
        },
        "outputId": "44b98a79-2d4e-4f06-bfea-2a755482d6dd"
      },
      "source": [
        "alien_color = alien_0.get('color')\n",
        "alien_points = alien_0.get('points', 0)\n",
        "print(alien_color)\n",
        "print(alien_points)"
      ],
      "execution_count": null,
      "outputs": [
        {
          "output_type": "stream",
          "text": [
            "green\n",
            "5\n"
          ],
          "name": "stdout"
        }
      ]
    },
    {
      "cell_type": "code",
      "metadata": {
        "id": "TwnwkaFpimDG"
      },
      "source": [
        "alien_0 = {'color': 'green', 'points': 5}\n",
        "alien_0['x'] = 0\n",
        "alien_0['y'] = 25\n",
        "alien_0['speed'] = 1.5"
      ],
      "execution_count": null,
      "outputs": []
    },
    {
      "cell_type": "code",
      "metadata": {
        "id": "SkmczW52io6H",
        "colab": {
          "base_uri": "https://localhost:8080/",
          "height": 34
        },
        "outputId": "527a566b-8317-48ac-b171-ebc8b75024c3"
      },
      "source": [
        "alien_0"
      ],
      "execution_count": null,
      "outputs": [
        {
          "output_type": "execute_result",
          "data": {
            "text/plain": [
              "{'color': 'green', 'points': 5, 'speed': 1.5, 'x': 0, 'y': 25}"
            ]
          },
          "metadata": {
            "tags": []
          },
          "execution_count": 8
        }
      ]
    },
    {
      "cell_type": "code",
      "metadata": {
        "id": "Od3MreBJiwHU"
      },
      "source": [
        "alien_0 = {}\n",
        "alien_0['color'] = 'green'\n",
        "alien_0['points'] = 5"
      ],
      "execution_count": null,
      "outputs": []
    },
    {
      "cell_type": "code",
      "metadata": {
        "id": "kf2zhP-_jAR6",
        "colab": {
          "base_uri": "https://localhost:8080/",
          "height": 34
        },
        "outputId": "1ca5ac24-0590-49c3-92a7-95311aec8561"
      },
      "source": [
        "alien_0"
      ],
      "execution_count": null,
      "outputs": [
        {
          "output_type": "execute_result",
          "data": {
            "text/plain": [
              "{'color': 'green', 'points': 5}"
            ]
          },
          "metadata": {
            "tags": []
          },
          "execution_count": 12
        }
      ]
    },
    {
      "cell_type": "code",
      "metadata": {
        "id": "RIkfdGHUjCLM",
        "colab": {
          "base_uri": "https://localhost:8080/",
          "height": 50
        },
        "outputId": "7174fc88-236f-44a2-8877-543e39851637"
      },
      "source": [
        "alien_0 = {'color': 'green', 'points': 5}\n",
        "print(alien_0)\n",
        "# Change the alien's color and point value.\n",
        "alien_0['color'] = 'yellow'\n",
        "alien_0['points'] = 10000000000000000\n",
        "print(alien_0)"
      ],
      "execution_count": null,
      "outputs": [
        {
          "output_type": "stream",
          "text": [
            "{'color': 'green', 'points': 5}\n",
            "{'color': 'yellow', 'points': 10000000000000000}\n"
          ],
          "name": "stdout"
        }
      ]
    },
    {
      "cell_type": "code",
      "metadata": {
        "id": "_L8RnFBnjLW1",
        "colab": {
          "base_uri": "https://localhost:8080/",
          "height": 50
        },
        "outputId": "b9b61042-c019-4dbc-c926-18defd96bfb0"
      },
      "source": [
        "alien_0 = {'color': 'green', 'points': 5}\n",
        "print(alien_0)\n",
        "del alien_0['points']\n",
        "print(alien_0)"
      ],
      "execution_count": null,
      "outputs": [
        {
          "output_type": "stream",
          "text": [
            "{'color': 'green', 'points': 5}\n",
            "{'color': 'green'}\n"
          ],
          "name": "stdout"
        }
      ]
    },
    {
      "cell_type": "code",
      "metadata": {
        "id": "WZGqdFFejT3H"
      },
      "source": [
        "# Store people's favorite languages.\n",
        "fav_languages = {\n",
        "'jen': 'python',\n",
        "'sarah': 'c',\n",
        "'edward': 'ruby',\n",
        "'phil': 'python',\n",
        "}"
      ],
      "execution_count": null,
      "outputs": []
    },
    {
      "cell_type": "code",
      "metadata": {
        "id": "ZebKDs5wjv3B",
        "colab": {
          "base_uri": "https://localhost:8080/",
          "height": 34
        },
        "outputId": "358ec428-da16-490a-ef6c-1bb82d985241"
      },
      "source": [
        "fav_languages"
      ],
      "execution_count": null,
      "outputs": [
        {
          "output_type": "execute_result",
          "data": {
            "text/plain": [
              "{'edward': 'ruby', 'jen': 'python', 'phil': 'python', 'sarah': 'c'}"
            ]
          },
          "metadata": {
            "tags": []
          },
          "execution_count": 23
        }
      ]
    },
    {
      "cell_type": "code",
      "metadata": {
        "id": "Vaqky6dFk5Wq",
        "colab": {
          "base_uri": "https://localhost:8080/",
          "height": 84
        },
        "outputId": "2cfd198e-9a8a-45c8-90dd-cc1ccb3c927e"
      },
      "source": [
        "# Store people's favorite languages.\n",
        "fav_languages = {\n",
        "'jen': 'python',\n",
        "'sarah': 'c',\n",
        "'edward': 'ruby',\n",
        "'phil': 'python',\n",
        "}\n",
        "# Show each person's favorite language.\n",
        "for name,typo in fav_languages.items():\n",
        " print(name + \": \" + typo)"
      ],
      "execution_count": null,
      "outputs": [
        {
          "output_type": "stream",
          "text": [
            "jen: python\n",
            "sarah: c\n",
            "edward: ruby\n",
            "phil: python\n"
          ],
          "name": "stdout"
        }
      ]
    },
    {
      "cell_type": "code",
      "metadata": {
        "id": "u6vgbITtlWkK",
        "colab": {
          "base_uri": "https://localhost:8080/",
          "height": 84
        },
        "outputId": "d71a318f-ebaf-42e5-ca99-1da46b6604d5"
      },
      "source": [
        "# Show everyone who's taken the survey.\n",
        "for name in fav_languages.keys():\n",
        " print(name)"
      ],
      "execution_count": null,
      "outputs": [
        {
          "output_type": "stream",
          "text": [
            "jen\n",
            "sarah\n",
            "edward\n",
            "phil\n"
          ],
          "name": "stdout"
        }
      ]
    },
    {
      "cell_type": "code",
      "metadata": {
        "id": "7RG0AFZGln2F",
        "colab": {
          "base_uri": "https://localhost:8080/",
          "height": 84
        },
        "outputId": "cc772fcf-28ae-4658-a44c-1c32068eb57c"
      },
      "source": [
        "# Show all the languages that have been chosen.\n",
        "for language in fav_languages.values():\n",
        " print(language)"
      ],
      "execution_count": null,
      "outputs": [
        {
          "output_type": "stream",
          "text": [
            "python\n",
            "c\n",
            "ruby\n",
            "python\n"
          ],
          "name": "stdout"
        }
      ]
    },
    {
      "cell_type": "code",
      "metadata": {
        "id": "V8PbX7icibKk"
      },
      "source": [
        "fav_languages = {\n",
        "'jen': 'python',\n",
        "'sarah': 'c',\n",
        "'edward': 'ruby',\n",
        "'phil': 'python',\n",
        "}"
      ],
      "execution_count": null,
      "outputs": []
    },
    {
      "cell_type": "code",
      "metadata": {
        "id": "p5sJiFmZmZFd"
      },
      "source": [
        "num_responses = len(fav_languages)"
      ],
      "execution_count": null,
      "outputs": []
    },
    {
      "cell_type": "code",
      "metadata": {
        "id": "63HbMKaCmwKo",
        "colab": {
          "base_uri": "https://localhost:8080/",
          "height": 34
        },
        "outputId": "fcef1c62-c09c-4a74-8493-cdc76362e1c0"
      },
      "source": [
        "num_responses\n"
      ],
      "execution_count": null,
      "outputs": [
        {
          "output_type": "execute_result",
          "data": {
            "text/plain": [
              "4"
            ]
          },
          "metadata": {
            "tags": []
          },
          "execution_count": 10
        }
      ]
    },
    {
      "cell_type": "code",
      "metadata": {
        "id": "aJJjQBhImzTs",
        "colab": {
          "base_uri": "https://localhost:8080/",
          "height": 185
        },
        "outputId": "36f404e1-175f-4819-fd1e-b70d54a80b96"
      },
      "source": [
        "# Start with an empty list.\n",
        "users = []\n",
        "# Make a new user, and add them to the list.\n",
        "new_user = {\n",
        "'last': 'fermi',\n",
        "'first': 'enrico',\n",
        "'username': 'efermi',\n",
        "}\n",
        "users.append(new_user)\n",
        "# Make another new user, and add them as well.\n",
        "new_user = {\n",
        "'last': 'curie',\n",
        "'first': 'marie',\n",
        "'username': 'mcurie',\n",
        "}\n",
        "users.append(new_user)\n",
        "# Show all information about each user.\n",
        "for user_dict in users:\n",
        "  for u,v in user_dict.items():\n",
        "    print( u + \" : \" + v)\n",
        "  print(\"\\n\")  "
      ],
      "execution_count": null,
      "outputs": [
        {
          "output_type": "stream",
          "text": [
            "last : fermi\n",
            "first : enrico\n",
            "username : efermi\n",
            "\n",
            "\n",
            "last : curie\n",
            "first : marie\n",
            "username : mcurie\n",
            "\n",
            "\n"
          ],
          "name": "stdout"
        }
      ]
    },
    {
      "cell_type": "code",
      "metadata": {
        "id": "pa8nVjP9jR0n",
        "colab": {
          "base_uri": "https://localhost:8080/",
          "height": 185
        },
        "outputId": "eae170a1-b631-466c-c6f0-82159980095c"
      },
      "source": [
        "# Define a list of users, where each user\n",
        "# is represented by a dictionary.\n",
        "users = [\n",
        "{\n",
        "'last': 'fermi',\n",
        "'first': 'enrico',\n",
        "'username': 'efermi',\n",
        "},\n",
        "{\n",
        "'last': 'curie',\n",
        "'first': 'marie',\n",
        "'username': 'mcurie',\n",
        "},\n",
        "]\n",
        "# Show all information about each user.\n",
        "for user_dict in users:\n",
        "  for u,v in user_dict.items():\n",
        "    print(u + \" : \" + v)\n",
        "  print(\"\\n\")"
      ],
      "execution_count": null,
      "outputs": [
        {
          "output_type": "stream",
          "text": [
            "last : fermi\n",
            "first : enrico\n",
            "username : efermi\n",
            "\n",
            "\n",
            "last : curie\n",
            "first : marie\n",
            "username : mcurie\n",
            "\n",
            "\n"
          ],
          "name": "stdout"
        }
      ]
    },
    {
      "cell_type": "code",
      "metadata": {
        "id": "EmE2JLAAj8NI",
        "colab": {
          "base_uri": "https://localhost:8080/",
          "height": 202
        },
        "outputId": "9ba0b84d-ae9d-43d2-ded6-6bd063832970"
      },
      "source": [
        "# Store multiple languages for each person.\n",
        "fav_languages = {\n",
        "'jen': ['python', 'ruby'],\n",
        "'sarah': ['c'],\n",
        "'edward': ['ruby', 'go'],\n",
        "'phil': ['python', 'haskell'],\n",
        "}\n",
        "# Show all responses for each person.\n",
        "for name, langs in fav_languages.items():\n",
        "  print(name + \": \")\n",
        "  for lang in langs:\n",
        "    print(\"- \" + lang)"
      ],
      "execution_count": null,
      "outputs": [
        {
          "output_type": "stream",
          "text": [
            "jen: \n",
            "- python\n",
            "- ruby\n",
            "sarah: \n",
            "- c\n",
            "edward: \n",
            "- ruby\n",
            "- go\n",
            "phil: \n",
            "- python\n",
            "- haskell\n"
          ],
          "name": "stdout"
        }
      ]
    },
    {
      "cell_type": "code",
      "metadata": {
        "id": "QvHvreU-kV3h",
        "colab": {
          "base_uri": "https://localhost:8080/",
          "height": 151
        },
        "outputId": "c6bec9e8-657b-4ca1-852c-db7bdb7b7258"
      },
      "source": [
        "users = {\n",
        "'aeinstein': {\n",
        "'first': 'albert',\n",
        "'last': 'einstein',\n",
        "'location': 'princeton',\n",
        "},\n",
        "'mcurie': {\n",
        "'first': 'marie',\n",
        "'last': 'curie',\n",
        "'location': 'paris',\n",
        "},\n",
        "}\n",
        "for username, user_dict in users.items():\n",
        "  print(\"\\nUsername: \" + username)\n",
        "  full_name = user_dict['first'] + \" \"\n",
        "  full_name += user_dict['last']\n",
        "  location = user_dict['location']\n",
        "  print(\"\\tFull name: \" + full_name.title())\n",
        "  print(\"\\tLocation: \" + location.title())"
      ],
      "execution_count": null,
      "outputs": [
        {
          "output_type": "stream",
          "text": [
            "\n",
            "Username: aeinstein\n",
            "\tFull name: Albert Einstein\n",
            "\tLocation: Princeton\n",
            "\n",
            "Username: mcurie\n",
            "\tFull name: Marie Curie\n",
            "\tLocation: Paris\n"
          ],
          "name": "stdout"
        }
      ]
    }
  ]
}